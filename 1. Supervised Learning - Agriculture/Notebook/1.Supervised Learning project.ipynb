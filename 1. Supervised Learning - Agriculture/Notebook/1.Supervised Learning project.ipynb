{
 "cells": [
  {
   "cell_type": "markdown",
   "metadata": {},
   "source": [
    "# PREDICTIVE MODELLING (AGRICULTURE)"
   ]
  },
  {
   "cell_type": "markdown",
   "metadata": {},
   "source": [
    "## Sowing Success: How Machine Learning Helps Farmers Select the Best Crops"
   ]
  },
  {
   "cell_type": "markdown",
   "metadata": {},
   "source": [
    "<div style=\"text-align: center;\">\n",
    "    <img src=\"../Images/farmer_in_a_field.jpg\" alt=\"Farmers\" />\n",
    "</div>"
   ]
  },
  {
   "cell_type": "markdown",
   "metadata": {},
   "source": [
    "### Problem statement\n",
    "\n",
    "A farmer reached out to you as a machine learning expert seeking help to select the best crop for his field. Due to budget constraints, the farmer explained that he could only afford to measure two or three out of the four essential soil measures:\n",
    "\n",
    "- Nitrogen content ratio in the soil\n",
    "- Phosphorous content ratio in the soil\n",
    "- Potassium content ratio in the soil\n",
    "- pH value of the soil\n",
    "\n",
    "The expert realized that this is a classic feature selection problem, where the objective is to pick the most important features that could help predict the crop accurately. "
   ]
  },
  {
   "cell_type": "markdown",
   "metadata": {},
   "source": [
    "Measuring essential soil metrics such as \n",
    "\n",
    "- nitrogen, \n",
    "- phosphorous, \n",
    "- potassium levels, and \n",
    "- pH value \n",
    "\n",
    "is an important aspect of assessing soil condition. However, it can be an expensive and time-consuming process, which can cause farmers to prioritize which metrics to measure based on their budget constraints.\n",
    "\n",
    "Farmers have various options when it comes to deciding which crop to plant each season. Their primary objective is to maximize the yield of their crops, taking into account different factors. One crucial factor that affects crop growth is the condition of the soil in the field, which can be assessed by measuring basic elements such as nitrogen and potassium levels. Each crop has an ideal soil condition that ensures optimal growth and maximum yield.\n",
    "\n",
    "A farmer reached out to you as a machine learning expert for assistance in selecting the best crop for his field. They've provided you with a dataset called soil_measures.csv, which contains:\n",
    "\n",
    "\"N\": Nitrogen content ratio in the soil\n",
    "\"P\": Phosphorous content ratio in the soil\n",
    "\"K\": Potassium content ratio in the soil\n",
    "\"pH\" value of the soil\n",
    "\"crop\": categorical values that contain various crops (target variable).\n",
    "Each row in this dataset represents various measures of the soil in a particular field. Based on these measurements, the crop specified in the \"crop\" column is the optimal choice for that field.\n",
    "\n",
    "In this project, you will apply machine learning to build a multi-class classification model to predict the type of \"crop\", while using techniques to avoid multicollinearity, which is a concept where two or more features are highly correlated."
   ]
  },
  {
   "cell_type": "code",
   "execution_count": 1,
   "metadata": {},
   "outputs": [],
   "source": [
    "# All required libraries are imported here for you.\n",
    "import pandas as pd\n",
    "import seaborn as sns\n",
    "import matplotlib.pyplot as plt\n",
    "from sklearn.metrics import f1_score\n",
    "from sklearn.preprocessing import StandardScaler\n",
    "from sklearn.linear_model import LogisticRegression\n",
    "from sklearn.model_selection import train_test_split"
   ]
  },
  {
   "cell_type": "code",
   "execution_count": 2,
   "metadata": {},
   "outputs": [
    {
     "name": "stdout",
     "output_type": "stream",
     "text": [
      "(2200, 5)\n"
     ]
    },
    {
     "data": {
      "text/html": [
       "<div>\n",
       "<style scoped>\n",
       "    .dataframe tbody tr th:only-of-type {\n",
       "        vertical-align: middle;\n",
       "    }\n",
       "\n",
       "    .dataframe tbody tr th {\n",
       "        vertical-align: top;\n",
       "    }\n",
       "\n",
       "    .dataframe thead th {\n",
       "        text-align: right;\n",
       "    }\n",
       "</style>\n",
       "<table border=\"1\" class=\"dataframe\">\n",
       "  <thead>\n",
       "    <tr style=\"text-align: right;\">\n",
       "      <th></th>\n",
       "      <th>N</th>\n",
       "      <th>P</th>\n",
       "      <th>K</th>\n",
       "      <th>ph</th>\n",
       "      <th>crop</th>\n",
       "    </tr>\n",
       "  </thead>\n",
       "  <tbody>\n",
       "    <tr>\n",
       "      <th>0</th>\n",
       "      <td>90</td>\n",
       "      <td>42</td>\n",
       "      <td>43</td>\n",
       "      <td>6.502985</td>\n",
       "      <td>rice</td>\n",
       "    </tr>\n",
       "    <tr>\n",
       "      <th>1</th>\n",
       "      <td>85</td>\n",
       "      <td>58</td>\n",
       "      <td>41</td>\n",
       "      <td>7.038096</td>\n",
       "      <td>rice</td>\n",
       "    </tr>\n",
       "    <tr>\n",
       "      <th>2</th>\n",
       "      <td>60</td>\n",
       "      <td>55</td>\n",
       "      <td>44</td>\n",
       "      <td>7.840207</td>\n",
       "      <td>rice</td>\n",
       "    </tr>\n",
       "    <tr>\n",
       "      <th>3</th>\n",
       "      <td>74</td>\n",
       "      <td>35</td>\n",
       "      <td>40</td>\n",
       "      <td>6.980401</td>\n",
       "      <td>rice</td>\n",
       "    </tr>\n",
       "    <tr>\n",
       "      <th>4</th>\n",
       "      <td>78</td>\n",
       "      <td>42</td>\n",
       "      <td>42</td>\n",
       "      <td>7.628473</td>\n",
       "      <td>rice</td>\n",
       "    </tr>\n",
       "  </tbody>\n",
       "</table>\n",
       "</div>"
      ],
      "text/plain": [
       "    N   P   K        ph  crop\n",
       "0  90  42  43  6.502985  rice\n",
       "1  85  58  41  7.038096  rice\n",
       "2  60  55  44  7.840207  rice\n",
       "3  74  35  40  6.980401  rice\n",
       "4  78  42  42  7.628473  rice"
      ]
     },
     "execution_count": 2,
     "metadata": {},
     "output_type": "execute_result"
    }
   ],
   "source": [
    "# Load and view the dataset\n",
    "crops = pd.read_csv(\"../Data/soil_measures.csv\")\n",
    "print(crops.shape)\n",
    "crops.head()"
   ]
  },
  {
   "cell_type": "code",
   "execution_count": 3,
   "metadata": {},
   "outputs": [
    {
     "name": "stdout",
     "output_type": "stream",
     "text": [
      "N       0\n",
      "P       0\n",
      "K       0\n",
      "ph      0\n",
      "crop    0\n",
      "dtype: int64\n"
     ]
    },
    {
     "data": {
      "text/plain": [
       "array(['rice', 'maize', 'chickpea', 'kidneybeans', 'pigeonpeas',\n",
       "       'mothbeans', 'mungbean', 'blackgram', 'lentil', 'pomegranate',\n",
       "       'banana', 'mango', 'grapes', 'watermelon', 'muskmelon', 'apple',\n",
       "       'orange', 'papaya', 'coconut', 'cotton', 'jute', 'coffee'],\n",
       "      dtype=object)"
      ]
     },
     "execution_count": 3,
     "metadata": {},
     "output_type": "execute_result"
    }
   ],
   "source": [
    "# Check for missing values\n",
    "print(crops.isna().sum())\n",
    "\n",
    "# Check how many crops we have, i.e., multi-class target\n",
    "crops.crop.unique()"
   ]
  },
  {
   "cell_type": "code",
   "execution_count": 4,
   "metadata": {},
   "outputs": [
    {
     "name": "stdout",
     "output_type": "stream",
     "text": [
      "F1-score for N: 0.10689900116508289\n",
      "F1-score for P: 0.08426955444720076\n",
      "F1-score for K: 0.13831456375684123\n",
      "F1-score for ph: 0.045464856528065166\n"
     ]
    }
   ],
   "source": [
    "# Standardize the data\n",
    "scaler = StandardScaler()\n",
    "crops_standardized = scaler.fit_transform(crops[[\"N\", \"P\", \"K\", \"ph\"]])\n",
    "\n",
    "# Split the standardized data into training and testing sets\n",
    "X_train, X_test, y_train, y_test = train_test_split(\n",
    "    crops_standardized,\n",
    "    crops[\"crop\"],\n",
    "    test_size=0.2,\n",
    "    random_state=42\n",
    ")\n",
    "\n",
    "# Train a logistic regression model for each feature\n",
    "for feature in [\"N\", \"P\", \"K\", \"ph\"]:\n",
    "    log_reg = LogisticRegression(\n",
    "        max_iter=2000,\n",
    "        multi_class=\"multinomial\",\n",
    "    )\n",
    "    log_reg.fit(X_train[:, [crops.columns.get_loc(feature)]], y_train)\n",
    "    y_pred = log_reg.predict(X_test[:, [crops.columns.get_loc(feature)]])\n",
    "    f1 = f1_score(y_test, y_pred, average=\"weighted\")\n",
    "    print(f\"F1-score for {feature}: {f1}\")\n"
   ]
  },
  {
   "cell_type": "code",
   "execution_count": 5,
   "metadata": {},
   "outputs": [
    {
     "data": {
      "text/html": [
       "<div>\n",
       "<style scoped>\n",
       "    .dataframe tbody tr th:only-of-type {\n",
       "        vertical-align: middle;\n",
       "    }\n",
       "\n",
       "    .dataframe tbody tr th {\n",
       "        vertical-align: top;\n",
       "    }\n",
       "\n",
       "    .dataframe thead th {\n",
       "        text-align: right;\n",
       "    }\n",
       "</style>\n",
       "<table border=\"1\" class=\"dataframe\">\n",
       "  <thead>\n",
       "    <tr style=\"text-align: right;\">\n",
       "      <th></th>\n",
       "      <th>N</th>\n",
       "      <th>P</th>\n",
       "      <th>K</th>\n",
       "      <th>ph</th>\n",
       "    </tr>\n",
       "  </thead>\n",
       "  <tbody>\n",
       "    <tr>\n",
       "      <th>N</th>\n",
       "      <td>1.000000</td>\n",
       "      <td>-0.231460</td>\n",
       "      <td>-0.140512</td>\n",
       "      <td>0.096683</td>\n",
       "    </tr>\n",
       "    <tr>\n",
       "      <th>P</th>\n",
       "      <td>-0.231460</td>\n",
       "      <td>1.000000</td>\n",
       "      <td>0.736232</td>\n",
       "      <td>-0.138019</td>\n",
       "    </tr>\n",
       "    <tr>\n",
       "      <th>K</th>\n",
       "      <td>-0.140512</td>\n",
       "      <td>0.736232</td>\n",
       "      <td>1.000000</td>\n",
       "      <td>-0.169503</td>\n",
       "    </tr>\n",
       "    <tr>\n",
       "      <th>ph</th>\n",
       "      <td>0.096683</td>\n",
       "      <td>-0.138019</td>\n",
       "      <td>-0.169503</td>\n",
       "      <td>1.000000</td>\n",
       "    </tr>\n",
       "  </tbody>\n",
       "</table>\n",
       "</div>"
      ],
      "text/plain": [
       "           N         P         K        ph\n",
       "N   1.000000 -0.231460 -0.140512  0.096683\n",
       "P  -0.231460  1.000000  0.736232 -0.138019\n",
       "K  -0.140512  0.736232  1.000000 -0.169503\n",
       "ph  0.096683 -0.138019 -0.169503  1.000000"
      ]
     },
     "execution_count": 5,
     "metadata": {},
     "output_type": "execute_result"
    }
   ],
   "source": [
    "# Calculate the correlation matrix\n",
    "crops_corr = crops[[\"N\", \"P\", \"K\", \"ph\"]].corr()\n",
    "crops_corr"
   ]
  },
  {
   "cell_type": "code",
   "execution_count": 6,
   "metadata": {},
   "outputs": [
    {
     "data": {
      "image/png": "[encoded data removed]",
      "text/plain": [
       "<Figure size 864x576 with 2 Axes>"
      ]
     },
     "metadata": {
      "needs_background": "light"
     },
     "output_type": "display_data"
    }
   ],
   "source": [
    "# Create a heatmap using seaborn\n",
    "fig, ax = plt.subplots(figsize=(12, 8))\n",
    "sns.heatmap(crops_corr, annot=True, ax=ax)\n",
    "plt.show()"
   ]
  },
  {
   "cell_type": "markdown",
   "metadata": {},
   "source": [
    "To choose the three features to continue with the model, consider both the F1-scores and the correlation values.\n",
    "\n",
    "- Potassium (K):\n",
    "F1-score: 0.1383\n",
    "Reasoning: K has the highest F1-score among all features.\n",
    "\n",
    "- Phosphorus (P):\n",
    "F1-score: 0.0843\n",
    "Correlation with K: 0.7362\n",
    "Reasoning: P has a decent F1-score, and it has a strong positive correlation with K.\n",
    "\n",
    "- Nitrogen (N):\n",
    "F1-score: 0.1069\n",
    "Correlation with P: -0.2315\n",
    "Reasoning: N has a reasonable F1-score, and it has a negative correlation with P, providing additional diversity to the selected features."
   ]
  },
  {
   "cell_type": "code",
   "execution_count": 7,
   "metadata": {},
   "outputs": [],
   "source": [
    "# Select the final features for the model\n",
    "final_features = [\"K\", \"P\", \"N\"]\n",
    "\n",
    "# Split the data with the final features\n",
    "X_train, X_test, y_train, y_test = train_test_split(\n",
    "    crops[final_features],\n",
    "    crops[\"crop\"],\n",
    "    test_size=0.2,\n",
    "    random_state=42\n",
    ")\n",
    "\n",
    "# Scale the data\n",
    "scaler = StandardScaler()\n",
    "X_train_scaled = scaler.fit_transform(X_train)\n",
    "X_test_scaled = scaler.transform(X_test)\n",
    "\n",
    "# Train a new model and evaluate performance\n",
    "log_reg = LogisticRegression(\n",
    "    max_iter=2000, \n",
    "    multi_class=\"multinomial\"\n",
    ")\n",
    "log_reg.fit(X_train_scaled, y_train)\n",
    "y_pred = log_reg.predict(X_test_scaled)\n",
    "model_performance = f1_score(y_test, y_pred, average=\"weighted\")"
   ]
  },
  {
   "cell_type": "code",
   "execution_count": 8,
   "metadata": {},
   "outputs": [
    {
     "data": {
      "text/plain": [
       "0.5524287438954815"
      ]
     },
     "execution_count": 8,
     "metadata": {},
     "output_type": "execute_result"
    }
   ],
   "source": [
    "model_performance"
   ]
  },
  {
   "cell_type": "code",
   "execution_count": 9,
   "metadata": {},
   "outputs": [
    {
     "data": {
      "text/plain": [
       "array(['muskmelon', 'watermelon', 'papaya', 'papaya', 'grapes', 'coconut',\n",
       "       'grapes', 'mungbean', 'mungbean', 'lentil', 'blackgram',\n",
       "       'pomegranate', 'pomegranate', 'rice', 'coconut', 'pomegranate',\n",
       "       'grapes', 'coffee', 'papaya', 'watermelon', 'coffee', 'papaya',\n",
       "       'orange', 'papaya', 'chickpea', 'rice', 'mothbeans', 'orange',\n",
       "       'blackgram', 'rice', 'pomegranate', 'mothbeans', 'rice', 'lentil',\n",
       "       'rice', 'lentil', 'rice', 'chickpea', 'chickpea', 'mungbean',\n",
       "       'papaya', 'coconut', 'lentil', 'maize', 'mango', 'maize', 'lentil',\n",
       "       'coconut', 'watermelon', 'maize', 'lentil', 'coffee', 'grapes',\n",
       "       'mango', 'coffee', 'lentil', 'cotton', 'apple', 'banana', 'lentil',\n",
       "       'muskmelon', 'coconut', 'kidneybeans', 'orange', 'papaya',\n",
       "       'blackgram', 'orange', 'rice', 'watermelon', 'mungbean',\n",
       "       'muskmelon', 'coconut', 'rice', 'banana', 'blackgram', 'papaya',\n",
       "       'banana', 'coffee', 'muskmelon', 'orange', 'coffee', 'chickpea',\n",
       "       'rice', 'mungbean', 'orange', 'coconut', 'coffee', 'mungbean',\n",
       "       'blackgram', 'pomegranate', 'maize', 'mungbean', 'cotton',\n",
       "       'papaya', 'mungbean', 'mothbeans', 'lentil', 'coffee', 'lentil',\n",
       "       'lentil', 'mango', 'papaya', 'orange', 'muskmelon', 'watermelon',\n",
       "       'blackgram', 'muskmelon', 'banana', 'lentil', 'mungbean', 'banana',\n",
       "       'rice', 'coffee', 'pomegranate', 'lentil', 'chickpea', 'maize',\n",
       "       'coconut', 'pomegranate', 'rice', 'lentil', 'grapes', 'lentil',\n",
       "       'mango', 'chickpea', 'lentil', 'coconut', 'maize', 'banana',\n",
       "       'lentil', 'banana', 'lentil', 'pomegranate', 'chickpea', 'coconut',\n",
       "       'orange', 'blackgram', 'banana', 'banana', 'grapes', 'blackgram',\n",
       "       'muskmelon', 'mungbean', 'blackgram', 'mango', 'maize', 'apple',\n",
       "       'coconut', 'lentil', 'mungbean', 'mungbean', 'blackgram',\n",
       "       'muskmelon', 'mungbean', 'mothbeans', 'lentil', 'lentil', 'lentil',\n",
       "       'maize', 'rice', 'chickpea', 'apple', 'orange', 'cotton', 'rice',\n",
       "       'coconut', 'grapes', 'lentil', 'watermelon', 'grapes', 'grapes',\n",
       "       'blackgram', 'pomegranate', 'chickpea', 'coconut', 'maize',\n",
       "       'lentil', 'grapes', 'muskmelon', 'rice', 'coffee', 'coffee',\n",
       "       'blackgram', 'rice', 'mungbean', 'lentil', 'banana', 'lentil',\n",
       "       'coconut', 'papaya', 'papaya', 'mungbean', 'mango', 'coconut',\n",
       "       'muskmelon', 'lentil', 'maize', 'grapes', 'blackgram', 'chickpea',\n",
       "       'grapes', 'apple', 'banana', 'cotton', 'rice', 'pomegranate',\n",
       "       'mungbean', 'banana', 'rice', 'mango', 'maize', 'chickpea',\n",
       "       'chickpea', 'chickpea', 'grapes', 'rice', 'lentil', 'papaya',\n",
       "       'coffee', 'blackgram', 'lentil', 'mango', 'mango', 'coconut',\n",
       "       'papaya', 'grapes', 'chickpea', 'pomegranate', 'chickpea',\n",
       "       'muskmelon', 'grapes', 'muskmelon', 'muskmelon', 'mungbean',\n",
       "       'mango', 'cotton', 'coconut', 'pomegranate', 'rice', 'muskmelon',\n",
       "       'cotton', 'papaya', 'lentil', 'maize', 'mango', 'muskmelon',\n",
       "       'lentil', 'lentil', 'rice', 'grapes', 'coconut', 'cotton',\n",
       "       'lentil', 'rice', 'grapes', 'coconut', 'coffee', 'chickpea',\n",
       "       'cotton', 'rice', 'coconut', 'banana', 'papaya', 'grapes',\n",
       "       'chickpea', 'jute', 'lentil', 'mungbean', 'mungbean', 'papaya',\n",
       "       'pomegranate', 'grapes', 'mungbean', 'papaya', 'cotton', 'coconut',\n",
       "       'maize', 'chickpea', 'banana', 'rice', 'coconut', 'coffee',\n",
       "       'mango', 'watermelon', 'grapes', 'banana', 'blackgram', 'lentil',\n",
       "       'orange', 'chickpea', 'muskmelon', 'banana', 'grapes', 'chickpea',\n",
       "       'coffee', 'lentil', 'orange', 'grapes', 'coconut', 'papaya',\n",
       "       'muskmelon', 'mungbean', 'papaya', 'chickpea', 'pomegranate',\n",
       "       'chickpea', 'papaya', 'lentil', 'grapes', 'pomegranate',\n",
       "       'chickpea', 'mango', 'chickpea', 'pomegranate', 'muskmelon',\n",
       "       'lentil', 'mungbean', 'muskmelon', 'muskmelon', 'lentil',\n",
       "       'watermelon', 'coconut', 'rice', 'maize', 'chickpea', 'banana',\n",
       "       'lentil', 'lentil', 'papaya', 'lentil', 'mungbean', 'mango',\n",
       "       'cotton', 'grapes', 'grapes', 'lentil', 'banana', 'rice', 'grapes',\n",
       "       'pomegranate', 'grapes', 'mungbean', 'muskmelon', 'coffee',\n",
       "       'coffee', 'blackgram', 'rice', 'lentil', 'banana', 'maize', 'rice',\n",
       "       'cotton', 'lentil', 'mango', 'lentil', 'mango', 'watermelon',\n",
       "       'blackgram', 'maize', 'rice', 'mungbean', 'mungbean', 'mango',\n",
       "       'cotton', 'papaya', 'mungbean', 'cotton', 'mungbean', 'orange',\n",
       "       'rice', 'blackgram', 'mungbean', 'coffee', 'banana', 'lentil',\n",
       "       'papaya', 'grapes', 'coconut', 'maize', 'pomegranate',\n",
       "       'pomegranate', 'grapes', 'lentil', 'rice', 'mungbean', 'lentil',\n",
       "       'coconut', 'blackgram', 'rice', 'lentil', 'cotton', 'watermelon',\n",
       "       'apple', 'grapes', 'coconut', 'grapes', 'muskmelon', 'rice',\n",
       "       'mango', 'coconut', 'cotton', 'pomegranate', 'banana', 'apple',\n",
       "       'rice', 'orange', 'cotton', 'coconut', 'papaya', 'muskmelon',\n",
       "       'mungbean', 'rice', 'chickpea', 'mungbean', 'pomegranate',\n",
       "       'muskmelon', 'mungbean', 'cotton', 'papaya', 'muskmelon', 'lentil',\n",
       "       'rice', 'mango', 'mungbean', 'mungbean', 'maize', 'rice', 'maize',\n",
       "       'mango', 'orange', 'pomegranate', 'lentil', 'watermelon',\n",
       "       'blackgram', 'blackgram', 'cotton', 'rice', 'cotton', 'cotton',\n",
       "       'lentil'], dtype=object)"
      ]
     },
     "execution_count": 9,
     "metadata": {},
     "output_type": "execute_result"
    }
   ],
   "source": [
    "y_pred"
   ]
  },
  {
   "cell_type": "markdown",
   "metadata": {},
   "source": [
    "### Conclusion\n",
    "\n",
    "1. **Interpreting the Model Performance:**\n",
    "\n",
    "The F1 score of 0.55 indicates a moderate level of performance. While the model shows some predictive capability, there is room for improvement.\n",
    "\n",
    "2. **Why were Nitrogen, Phosphorous, Potassium Features Selected?:**\n",
    "\n",
    "These features were chosen based on their relevance and importance in soil assessment for crop growth. \n",
    "\n",
    "3. **Model Limitations:**\n",
    "\n",
    "The model's predictive power might be affected by the fact that only three features were considered due to budget constraints. Including more features, if feasible, could potentially enhance the model's accuracy.\n",
    "\n",
    "4. **Recommendations for Improvement:**\n",
    "\n",
    "- Collecting more data if possible, including additional relevant features, \n",
    "- Trying different algorithms. \n",
    "- Continuous refinement and updates to the model could lead to better predictions over time.\n",
    "\n",
    "5. **Decision-Making Process:**\n",
    "\n",
    "The model is a tool to assist decision-making, but it should not be the sole factor. Farmers should consider other practical aspects, such as climate, local conditions, and their own experience, when deciding which crops to plant.\n",
    "\n",
    "6. **next steps**\n",
    "- Present Predictions (y_pred): the model's suggestions based on the provided soil measures.\n",
    "- I encourage a continuous Collaboration with the farmers in areas including: assistance in refining the model, incorporating additional features, and adapting it as more data becomes available.\n",
    "\n",
    "_END_"
   ]
  }
 ],
 "metadata": {
  "kernelspec": {
   "display_name": "Python 3",
   "language": "python",
   "name": "python3"
  },
  "language_info": {
   "codemirror_mode": {
    "name": "ipython",
    "version": 3
   },
   "file_extension": ".py",
   "mimetype": "text/x-python",
   "name": "python",
   "nbconvert_exporter": "python",
   "pygments_lexer": "ipython3",
   "version": "3.9.7"
  }
 },
 "nbformat": 4,
 "nbformat_minor": 2
}
